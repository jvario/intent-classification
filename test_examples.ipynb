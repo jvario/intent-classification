{
 "cells": [
  {
   "cell_type": "code",
   "id": "initial_id",
   "metadata": {
    "collapsed": true,
    "ExecuteTime": {
     "end_time": "2024-06-02T15:23:43.337625Z",
     "start_time": "2024-06-02T15:23:39.483748Z"
    }
   },
   "source": [
    "import requests\n",
    "\n",
    "text =\"I need a flight from Los Angeles to New York on Friday evening.\"\n",
    "response = requests.post('http://127.0.0.1:8080/intent', json={'text': text})\n",
    "response.json()\n",
    "\n"
   ],
   "outputs": [
    {
     "data": {
      "text/plain": [
       "{'intents': [{'label': 'flight'}]}"
      ]
     },
     "execution_count": 4,
     "metadata": {},
     "output_type": "execute_result"
    }
   ],
   "execution_count": 4
  },
  {
   "metadata": {
    "ExecuteTime": {
     "end_time": "2024-06-02T15:24:27.121067Z",
     "start_time": "2024-06-02T15:24:24.560971Z"
    }
   },
   "cell_type": "code",
   "source": [
    "text =\"What is the baggage allowance for flights from Chicago to Miami?.\"\n",
    "response = requests.post('http://127.0.0.1:8080/intent', json={'text': text})\n",
    "response.json()"
   ],
   "id": "ceab1bcaac641dab",
   "outputs": [
    {
     "data": {
      "text/plain": [
       "{'intents': [{'label': 'flight'},\n",
       "  {'label': 'baggage'},\n",
       "  {'label': 'flight_information'}]}"
      ]
     },
     "execution_count": 5,
     "metadata": {},
     "output_type": "execute_result"
    }
   ],
   "execution_count": 5
  },
  {
   "metadata": {
    "ExecuteTime": {
     "end_time": "2024-06-02T15:24:37.937889Z",
     "start_time": "2024-06-02T15:24:35.493891Z"
    }
   },
   "cell_type": "code",
   "source": [
    "text =\"Show me direct flights from San Francisco to London.\"\n",
    "response = requests.post('http://127.0.0.1:8080/intent', json={'text': text})\n",
    "response.json()"
   ],
   "id": "1f0f974b30aa4164",
   "outputs": [
    {
     "data": {
      "text/plain": [
       "{'intents': [{'label': 'flight'}]}"
      ]
     },
     "execution_count": 6,
     "metadata": {},
     "output_type": "execute_result"
    }
   ],
   "execution_count": 6
  },
  {
   "metadata": {
    "ExecuteTime": {
     "end_time": "2024-06-02T15:24:44.721139Z",
     "start_time": "2024-06-02T15:24:42.314178Z"
    }
   },
   "cell_type": "code",
   "source": [
    "text =\"Are there any red-eye flights from Houston to Atlanta?\"\n",
    "response = requests.post('http://127.0.0.1:8080/intent', json={'text': text})\n",
    "response.json()"
   ],
   "id": "d90eda6b4db64366",
   "outputs": [
    {
     "data": {
      "text/plain": [
       "{'intents': [{'label': 'flight'}, {'label': 'Flight'}]}"
      ]
     },
     "execution_count": 7,
     "metadata": {},
     "output_type": "execute_result"
    }
   ],
   "execution_count": 7
  },
  {
   "metadata": {
    "ExecuteTime": {
     "end_time": "2024-06-02T15:24:51.036411Z",
     "start_time": "2024-06-02T15:24:48.888497Z"
    }
   },
   "cell_type": "code",
   "source": [
    "text =\"What is the cancellation policy for flights to Paris?\"\n",
    "response = requests.post('http://127.0.0.1:8080/intent', json={'text': text})\n",
    "response.json()"
   ],
   "id": "40554f173a780bba",
   "outputs": [
    {
     "data": {
      "text/plain": [
       "{'intents': [{'label': 'flight'},\n",
       "  {'label': 'flight_information'},\n",
       "  {'label': 'airfare'}]}"
      ]
     },
     "execution_count": 8,
     "metadata": {},
     "output_type": "execute_result"
    }
   ],
   "execution_count": 8
  },
  {
   "metadata": {
    "ExecuteTime": {
     "end_time": "2024-06-02T15:25:20.778907Z",
     "start_time": "2024-06-02T15:25:18.136973Z"
    }
   },
   "cell_type": "code",
   "source": [
    "text = \"Find me a nonstop flight from New York to San Francisco.\"\n",
    "response = requests.post('http://127.0.0.1:8080/intent', json={'text': text})\n",
    "response.json()"
   ],
   "id": "bcf8574bc778622d",
   "outputs": [
    {
     "data": {
      "text/plain": [
       "{'intents': [{'label': 'flight'}]}"
      ]
     },
     "execution_count": 9,
     "metadata": {},
     "output_type": "execute_result"
    }
   ],
   "execution_count": 9
  },
  {
   "metadata": {
    "ExecuteTime": {
     "end_time": "2024-06-02T15:25:30.054482Z",
     "start_time": "2024-06-02T15:25:26.610440Z"
    }
   },
   "cell_type": "code",
   "source": [
    "text = \"What is the earliest flight from Los Angeles to Chicago?\"\n",
    "response = requests.post('http://127.0.0.1:8080/intent', json={'text': text})\n",
    "response.json()"
   ],
   "id": "35f758adade683ac",
   "outputs": [
    {
     "data": {
      "text/plain": [
       "{'intents': [{'label': 'flight'}]}"
      ]
     },
     "execution_count": 10,
     "metadata": {},
     "output_type": "execute_result"
    }
   ],
   "execution_count": 10
  },
  {
   "metadata": {
    "ExecuteTime": {
     "end_time": "2024-06-02T15:25:46.842476Z",
     "start_time": "2024-06-02T15:25:43.849652Z"
    }
   },
   "cell_type": "code",
   "source": [
    "text = \"What meals are served on the flight from Houston to Las Vegas?\"\n",
    "response = requests.post('http://127.0.0.1:8080/intent', json={'text': text})\n",
    "response.json()"
   ],
   "id": "e6f0815bf06bf73",
   "outputs": [
    {
     "data": {
      "text/plain": [
       "{'intents': [{'label': 'flight'}, {'label': 'meal'}, {'label': 'flight_time'}]}"
      ]
     },
     "execution_count": 11,
     "metadata": {},
     "output_type": "execute_result"
    }
   ],
   "execution_count": 11
  }
 ],
 "metadata": {
  "kernelspec": {
   "display_name": "Python 3",
   "language": "python",
   "name": "python3"
  },
  "language_info": {
   "codemirror_mode": {
    "name": "ipython",
    "version": 2
   },
   "file_extension": ".py",
   "mimetype": "text/x-python",
   "name": "python",
   "nbconvert_exporter": "python",
   "pygments_lexer": "ipython2",
   "version": "2.7.6"
  }
 },
 "nbformat": 4,
 "nbformat_minor": 5
}
